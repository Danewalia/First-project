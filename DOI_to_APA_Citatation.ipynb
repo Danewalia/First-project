{
  "nbformat": 4,
  "nbformat_minor": 0,
  "metadata": {
    "colab": {
      "provenance": [],
      "authorship_tag": "ABX9TyMmShu6emquZq01F5uGWeJg",
      "include_colab_link": true
    },
    "kernelspec": {
      "name": "python3",
      "display_name": "Python 3"
    },
    "language_info": {
      "name": "python"
    }
  },
  "cells": [
    {
      "cell_type": "markdown",
      "metadata": {
        "id": "view-in-github",
        "colab_type": "text"
      },
      "source": [
        "<a href=\"https://colab.research.google.com/github/Danewalia/First-project/blob/main/DOI_to_APA_Citatation.ipynb\" target=\"_parent\"><img src=\"https://colab.research.google.com/assets/colab-badge.svg\" alt=\"Open In Colab\"/></a>"
      ]
    },
    {
      "cell_type": "code",
      "execution_count": 5,
      "metadata": {
        "colab": {
          "base_uri": "https://localhost:8080/"
        },
        "id": "iY25ChkoNwLb",
        "outputId": "32e4de3e-e268-47fb-8e4d-f1c7048bd6ec"
      },
      "outputs": [
        {
          "output_type": "stream",
          "name": "stdout",
          "text": [
            "Enter article title or DOI: 10.1016/j.physb.2014.03.070\n",
            "APA Citation:\n",
            "Shankhwar, N., Kothiyal, G. P., & Srinivasan, A. (2014). Understanding the magnetic behavior of heat treated CaOâP2O5âNa2OâFe2O3âSiO2 bioactive glass using electron paramagnetic resonance studies. Physica B: Condensed Matter, 448, 132â135. https://doi.org/10.1016/j.physb.2014.03.070\n",
            "\n"
          ]
        }
      ],
      "source": [
        "import requests\n",
        "\n",
        "def get_doi_from_title(title):\n",
        "    \"\"\"Search for a DOI given an article title using CrossRef API.\"\"\"\n",
        "    url = \"https://api.crossref.org/works\"\n",
        "    params = {\"query.title\": title, \"rows\": 1}\n",
        "    response = requests.get(url, params=params)\n",
        "    if response.status_code == 200:\n",
        "        items = response.json()[\"message\"][\"items\"]\n",
        "        if items:\n",
        "            return items[0][\"DOI\"]\n",
        "        else:\n",
        "            print(\"No DOI found for the given title.\")\n",
        "    else:\n",
        "        print(\"Failed to fetch DOI.\")\n",
        "    return None\n",
        "\n",
        "def get_apa_citation_from_doi(doi):\n",
        "    \"\"\"Get APA citation from DOI using citation.crosscite.org.\"\"\"\n",
        "    headers = {\"Accept\": \"text/x-bibliography; style=apa\"}\n",
        "    url = f\"https://doi.org/{doi}\"\n",
        "    response = requests.get(url, headers=headers)\n",
        "    if response.status_code == 200:\n",
        "        return response.text\n",
        "    else:\n",
        "        print(\"Could not retrieve citation.\")\n",
        "        return None\n",
        "\n",
        "def get_apa_citation(input_text):\n",
        "    \"\"\"Main function to handle DOI or title and return APA citation.\"\"\"\n",
        "    if input_text.lower().startswith(\"10.\"):\n",
        "        doi = input_text\n",
        "    else:\n",
        "        doi = get_doi_from_title(input_text)\n",
        "        if doi is None:\n",
        "            return \"DOI could not be found for the given title.\"\n",
        "\n",
        "    citation = get_apa_citation_from_doi(doi)\n",
        "    if citation:\n",
        "        return f\"APA Citation:\\n{citation}\"\n",
        "    else:\n",
        "        return \"Citation could not be retrieved.\"\n",
        "\n",
        "# --------- Example Usage ---------\n",
        "if __name__ == \"__main__\":\n",
        "    user_input = input(\"Enter article title or DOI: \")\n",
        "    print(get_apa_citation(user_input))\n"
      ]
    },
    {
      "cell_type": "code",
      "source": [],
      "metadata": {
        "id": "zdqnGlY-ODPq"
      },
      "execution_count": null,
      "outputs": []
    }
  ]
}